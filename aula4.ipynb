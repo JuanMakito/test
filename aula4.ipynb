{
 "cells": [
  {
   "cell_type": "markdown",
   "metadata": {},
   "source": [
    "## Aula 04 dia: 03/07/2024\n",
    "\n",
    "\n"
   ]
  },
  {
   "cell_type": "code",
   "execution_count": 8,
   "metadata": {},
   "outputs": [
    {
     "name": "stdout",
     "output_type": "stream",
     "text": [
      "Divisão inteira: 1\n",
      "Divisão normal: 1.0\n",
      "resto: 0\n",
      "Exponenciação 1\n"
     ]
    }
   ],
   "source": [
    "n1 = input('digite o primeiro numero: ')\n",
    "n2 = input('digite o segundo numero: ')\n",
    "\n",
    "#Convertendo as entradas para inteiro\n",
    "\n",
    "n1 = int(n1)\n",
    "n2 = int(n2)\n",
    "\n",
    "divi_inteira = n1 // n2\n",
    "divi = n1 / n2\n",
    "resto = n1 % n2\n",
    "expo = n1 ** n2\n",
    "\n",
    "print (f'Divisão inteira: {divi_inteira}')\n",
    "print (f'Divisão normal: {divi}')\n",
    "print (f'resto: {resto}')\n",
    "print (f'Exponenciação {expo}')\n"
   ]
  },
  {
   "cell_type": "code",
   "execution_count": 2,
   "metadata": {},
   "outputs": [
    {
     "name": "stdout",
     "output_type": "stream",
     "text": [
      "Resultado de atribuição de subtração: 0\n"
     ]
    }
   ],
   "source": [
    "# Atribuição subtração\n",
    "\n",
    "valor = 10\n",
    "valor -=10\n",
    "print(f'Resultado de atribuição de subtração: {valor}')\n",
    "# Atribuição de Subtração"
   ]
  },
  {
   "cell_type": "code",
   "execution_count": 3,
   "metadata": {},
   "outputs": [
    {
     "name": "stdout",
     "output_type": "stream",
     "text": [
      "Resultado de atribuição de Adição: 10\n"
     ]
    }
   ],
   "source": [
    "\n",
    "valor += 10\n",
    "print(f'Resultado de atribuição de Adição: {valor}')\n",
    "# Atribuição de Soma"
   ]
  },
  {
   "cell_type": "code",
   "execution_count": 4,
   "metadata": {},
   "outputs": [
    {
     "name": "stdout",
     "output_type": "stream",
     "text": [
      "Resultado de atribuição de Multiplicação: 100\n"
     ]
    }
   ],
   "source": [
    "valor *= 10\n",
    "print(f'Resultado de atribuição de Multiplicação: {valor}')\n",
    "# Atribuição de Multiplicação"
   ]
  },
  {
   "cell_type": "code",
   "execution_count": 5,
   "metadata": {},
   "outputs": [
    {
     "name": "stdout",
     "output_type": "stream",
     "text": [
      "Resultado de atribuição de Divisão: 10.0\n"
     ]
    }
   ],
   "source": [
    "valor /= 10\n",
    "print(f'Resultado de atribuição de Divisão: {valor}')\n",
    "# Atribuição de Divisão"
   ]
  },
  {
   "cell_type": "code",
   "execution_count": 6,
   "metadata": {},
   "outputs": [
    {
     "name": "stdout",
     "output_type": "stream",
     "text": [
      "Resultado de atribuição de Divisão inteira: 1.0\n"
     ]
    }
   ],
   "source": [
    "valor //= 10\n",
    "print(f'Resultado de atribuição de Divisão inteira: {valor}')\n",
    "# Atribuição de Divisão inteira"
   ]
  },
  {
   "cell_type": "code",
   "execution_count": 7,
   "metadata": {},
   "outputs": [
    {
     "name": "stdout",
     "output_type": "stream",
     "text": [
      "Resultado de atribuiçao de Modulo: 1.0\n"
     ]
    }
   ],
   "source": [
    "valor %= 10 \n",
    "print(f'Resultado de atribuiçao de Modulo: {valor}')\n",
    "# # Atribuição de Modulo"
   ]
  },
  {
   "cell_type": "markdown",
   "metadata": {},
   "source": [
    "# ATIVIDADE\n",
    "\n",
    " ## Crie um progama para o boletim de notas do aluno. Gurde o nome do aluno, as notas e calcule a media final do aluno.\n",
    " ## Disciplinas:\n",
    "\n",
    "-  Matemática\n",
    "-  Português\n",
    "-  Geografia\n",
    "-  Historia \n",
    "-  Fisica\n",
    "\n",
    "\n",
    " ## Ao obter as notas e a media das notas, inprima o boletim do aluno informado as notas das materias e com quanto ele ficou de media\n"
   ]
  },
  {
   "cell_type": "code",
   "execution_count": 22,
   "metadata": {},
   "outputs": [
    {
     "name": "stdout",
     "output_type": "stream",
     "text": [
      "O Nome do aluno é: teste\n",
      "Sua media em Matematica é: 2.0\n",
      "Sua media em Português é: 2.0\n",
      "Sua media em Geografia é: 2.0\n",
      "Sua media em historia é: 2.0\n",
      "Sua media em Fisica é: 12.0\n",
      "Sua media geral é: 4.0\n"
     ]
    }
   ],
   "source": [
    "nome = input('Nome do aluno: ')\n",
    "\n",
    "print(f'O Nome do aluno é: {nome}')\n",
    "\n",
    "nota_mat = float(input(\"Digite a primeira nota de Matematica: \"))\n",
    "nota_mat2 = float(input('Digite a segunda nota de Matematica: '))\n",
    "media1 = (nota_mat + nota_mat2) / 2\n",
    "\n",
    "print(f'Sua media em Matematica é: {media1}')\n",
    "\n",
    "nota_por = float(input(\"Digite a primeira nota de Português: \"))\n",
    "nota_por2 = float(input('Digite a segunda nota de Português: '))\n",
    "media2 = (nota_por + nota_por2) / 2\n",
    "\n",
    "print(f'Sua media em Português é: {media2}')\n",
    "\n",
    "nota_geo = float(input(\"Digite a primeira nota de Geografia: \"))\n",
    "nota_geo2 = float(input('Digite a segunda nota de Geografia: '))\n",
    "media3 = (nota_geo + nota_geo2) / 2\n",
    "\n",
    "print(f'Sua media em Geografia é: {media3}')\n",
    "\n",
    "nota_his = float(input(\"Digite a primeira nota de Historia: \"))\n",
    "nota_hist2 = float(input('Digite a segunda nota de Historia: '))\n",
    "media4 = (nota_his + nota_hist2) / 2\n",
    "\n",
    "print(f'Sua media em historia é: {media4}')\n",
    "\n",
    "nota_fis = float(input(\"Digite a primeira nota de Fisica: \"))\n",
    "nota_fis2 = float(input('Digite a segunda nota de Fisica: '))\n",
    "media5 = (nota_fis + nota_fis2) / 2\n",
    "\n",
    "print(f'Sua media em Fisica é: {media5}')\n",
    "\n",
    "media_geral = (media1 + media2 + media3 + media4 + media5) / 5\n",
    "\n",
    "print(f'Sua media geral é: {media_geral}')"
   ]
  }
 ],
 "metadata": {
  "kernelspec": {
   "display_name": ".venv",
   "language": "python",
   "name": "python3"
  },
  "language_info": {
   "codemirror_mode": {
    "name": "ipython",
    "version": 3
   },
   "file_extension": ".py",
   "mimetype": "text/x-python",
   "name": "python",
   "nbconvert_exporter": "python",
   "pygments_lexer": "ipython3",
   "version": "3.12.4"
  }
 },
 "nbformat": 4,
 "nbformat_minor": 2
}
