{
 "cells": [
  {
   "cell_type": "code",
   "execution_count": 10,
   "metadata": {},
   "outputs": [
    {
     "name": "stdout",
     "output_type": "stream",
     "text": [
      "Aqui esta minha atividade\n",
      "\n",
      "\n",
      "Seu nome é:  João Marcos Vieira West\n",
      "Sua idade é 19\n",
      "Seu peso é:  89.0\n",
      "Sua altura é:  200.0\n",
      "\n",
      "\n",
      "Seu nome é João Marcos Vieira West \n",
      "e sua idade é 19 anos.\n",
      "Você pesa 89.0 e tem a seguinte altura 200.0 em cms\n",
      "\n",
      "\n",
      "A classe do seu Nome é classe:  <class 'str'>\n",
      "A classe da sua idade é classe:  <class 'int'>\n",
      "A classe do seu peso é classe:  <class 'float'>\n",
      "A classe da sua altura é classe:  <class 'float'>\n"
     ]
    }
   ],
   "source": [
    "print('Aqui esta minha atividade')\n",
    "\n",
    "nome =  input(\"Digite seu nome: \")\n",
    "idade = int(input(\"Digite sua idade: \"))\n",
    "peso = float(input(\"Digite seu peso: \"))\n",
    "altura = float(input(\"Digite seu sua altura: \"))\n",
    "print('\\n')\n",
    "\n",
    "print('Seu nome é: ',nome)\n",
    "print('Sua idade é',idade)\n",
    "print('Seu peso é: ' ,peso)\n",
    "print('Sua altura é: ' ,altura)\n",
    "print('\\n')\n",
    "\n",
    "print(f'Seu nome é {nome} \\ne sua idade é {idade} anos.\\nVocê pesa {peso} e tem a seguinte altura {altura} em cms')\n",
    "print('\\n')\n",
    "print('A classe do seu Nome é classe: ', type(nome))\n",
    "print('A classe da sua idade é classe: ', type(idade))\n",
    "print('A classe do seu peso é classe: ', type(peso))\n",
    "print('A classe da sua altura é classe: ', type(altura))"
   ]
  }
 ],
 "metadata": {
  "kernelspec": {
   "display_name": ".venv",
   "language": "python",
   "name": "python3"
  },
  "language_info": {
   "codemirror_mode": {
    "name": "ipython",
    "version": 3
   },
   "file_extension": ".py",
   "mimetype": "text/x-python",
   "name": "python",
   "nbconvert_exporter": "python",
   "pygments_lexer": "ipython3",
   "version": "3.12.4"
  }
 },
 "nbformat": 4,
 "nbformat_minor": 2
}
