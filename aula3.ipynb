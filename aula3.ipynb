{
 "cells": [
  {
   "cell_type": "markdown",
   "metadata": {},
   "source": [
    "# ATIVIDADE DO DIA 01/07/2024"
   ]
  },
  {
   "cell_type": "code",
   "execution_count": null,
   "metadata": {},
   "outputs": [],
   "source": [
    "print('Aqui esta minha atividade')\n",
    "\n",
    "nome =  input(\"Digite seu nome: \")\n",
    "idade = int(input(\"Digite sua idade: \"))\n",
    "peso = float(input(\"Digite seu peso: \"))\n",
    "altura = float(input(\"Digite seu sua altura: \"))\n",
    "print('\\n')\n",
    "\n",
    "print('Seu nome é: ',nome)\n",
    "print('Sua idade é',idade)\n",
    "print('Seu peso é: ' ,peso)\n",
    "print('Sua altura é: ' ,altura)\n",
    "print('\\n')\n",
    "\n",
    "print(f'Seu nome é {nome} \\ne sua idade é {idade} anos.\\nVocê pesa {peso} e tem a seguinte altura {altura} em cms')\n",
    "print('\\n')\n",
    "print('A classe do seu Nome é classe: ', type(nome))\n",
    "print('A classe da sua idade é classe: ', type(idade))\n",
    "print('A classe do seu peso é classe: ', type(peso))\n",
    "print('A classe da sua altura é classe: ', type(altura))"
   ]
  },
  {
   "cell_type": "markdown",
   "metadata": {},
   "source": [
    "# AULA 3\n",
    "\n",
    "    Operadores\n",
    "\n",
    "    * Soma \n",
    "    * Subtração\n",
    "    * Divisão\n",
    "    * Multiplicação"
   ]
  },
  {
   "cell_type": "code",
   "execution_count": 20,
   "metadata": {},
   "outputs": [
    {
     "name": "stdout",
     "output_type": "stream",
     "text": [
      "Usando como concatenação: 1010\n",
      "Usando como soma:  20\n",
      "\n",
      "\n",
      "O resultado da soma é:  70\n",
      "\n",
      "\n",
      "resultado da subtração: 30\n",
      "\n",
      "\n",
      "Resultado da multiplicação:  1000\n",
      "\n",
      "\n",
      "Resultado da divisão: 2.5\n"
     ]
    }
   ],
   "source": [
    "# parte 1\n",
    "\n",
    "soma = 10 + 10\n",
    "\n",
    "print('Usando como concatenação: 10' + '10')\n",
    "print('Usando como soma: ', 10 + 10)\n",
    "\n",
    "# parte 2\n",
    "\n",
    "num1 = 50\n",
    "num2 = 20\n",
    "\n",
    "\n",
    "\n",
    "print('\\n')\n",
    "\n",
    "#somando as variaveis / parte 3\n",
    "\n",
    "soma = num1 + num2\n",
    "print('O resultado da soma é: ' ,soma)\n",
    "\n",
    "print('\\n')\n",
    "\n",
    "#subtação / parte 3\n",
    "\n",
    "subtração = num1 - num2\n",
    "\n",
    "print(f'resultado da subtração: {subtração}')\n",
    "\n",
    "print('\\n')\n",
    "\n",
    "#multiplicação / parte 4\n",
    "\n",
    "multiplicacao = num1 * num2\n",
    "\n",
    "print(f'Resultado da multiplicação:  {multiplicacao}')\n",
    "\n",
    "print('\\n')\n",
    "\n",
    "#divisão / parte 5\n",
    "divisao = num1 / num2\n",
    "\n",
    "print(f'Resultado da divisão: {divisao}')"
   ]
  },
  {
   "cell_type": "markdown",
   "metadata": {},
   "source": [
    "## Atividade\n",
    "\n",
    "- Declare 2 variáveis, cada uma com um valor, e some os resultados concatenados a um texto.\n",
    "\n",
    "- Crie um sistema onde o usuário irá inserir dois valores, gurde cada valor em variáveis , em seguida vocês irão realizar as 4 operações basicas \n",
    "matematicas ( + , - , * , / ) e mostrar esses resultados na tela, tambem concatenados a um texto indicativo de cada operação.\n",
    "\n",
    "- Crie um sistema que receba o nome do usuario, a ideia so podendo aceitar um numero inteiro, em seguida mostre o nome e a idade do usuario e peça para que ele digite 2 números para que sejam somados. Mostrar por ultimo a soma realizada para o usuario"
   ]
  },
  {
   "cell_type": "code",
   "execution_count": 46,
   "metadata": {},
   "outputs": [
    {
     "name": "stdout",
     "output_type": "stream",
     "text": [
      "O resultado da soma como concatenação é: 6060\n",
      "a soma é: 50 \n",
      "a subtração é: -10 \n",
      "a divisão é: 0.67 \n",
      "a multiplicação é: 600\n"
     ]
    }
   ],
   "source": [
    "# Parte 1 concatenação:\n",
    "\n",
    "print('O resultado da soma como concatenação é: 60' + '60')\n",
    "\n",
    "#sistema\n",
    "\n",
    "valor1 = int(input('Digite o primeiro valor aqui: '))\n",
    "valor2 = int(input('Digite o segundo valor aqui: '))\n",
    "\n",
    "soma = valor1 + valor2 \n",
    "subtracao = valor1 - valor2 \n",
    "divisao = valor1 / valor2\n",
    "multiplicacao = valor1 * valor2\n",
    "print(f'a soma é: {soma} \\na subtração é: {subtracao} \\na divisão é: {divisao:.2f} \\na multiplicação é: {multiplicacao}')"
   ]
  }
 ],
 "metadata": {
  "kernelspec": {
   "display_name": ".venv",
   "language": "python",
   "name": "python3"
  },
  "language_info": {
   "codemirror_mode": {
    "name": "ipython",
    "version": 3
   },
   "file_extension": ".py",
   "mimetype": "text/x-python",
   "name": "python",
   "nbconvert_exporter": "python",
   "pygments_lexer": "ipython3",
   "version": "3.12.4"
  }
 },
 "nbformat": 4,
 "nbformat_minor": 2
}
