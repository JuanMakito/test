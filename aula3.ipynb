{
 "cells": [
  {
   "cell_type": "markdown",
   "metadata": {},
   "source": [
    "# ATIVIDADE DO DIA 01/07/2024"
   ]
  },
  {
   "cell_type": "code",
   "execution_count": null,
   "metadata": {},
   "outputs": [],
   "source": [
    "print('Aqui esta minha atividade')\n",
    "\n",
    "nome =  input(\"Digite seu nome: \")\n",
    "idade = int(input(\"Digite sua idade: \"))\n",
    "peso = float(input(\"Digite seu peso: \"))\n",
    "altura = float(input(\"Digite seu sua altura: \"))\n",
    "print('\\n')\n",
    "\n",
    "print('Seu nome é: ',nome)\n",
    "print('Sua idade é',idade)\n",
    "print('Seu peso é: ' ,peso)\n",
    "print('Sua altura é: ' ,altura)\n",
    "print('\\n')\n",
    "\n",
    "print(f'Seu nome é {nome} \\ne sua idade é {idade} anos.\\nVocê pesa {peso} e tem a seguinte altura {altura} em cms')\n",
    "print('\\n')\n",
    "print('A classe do seu Nome é classe: ', type(nome))\n",
    "print('A classe da sua idade é classe: ', type(idade))\n",
    "print('A classe do seu peso é classe: ', type(peso))\n",
    "print('A classe da sua altura é classe: ', type(altura))"
   ]
  },
  {
   "cell_type": "markdown",
   "metadata": {},
   "source": [
    "## AULA 3\n",
    "- Git init - para iniciar\n",
    " \n",
    "- git status - para ver qual arquivos não estão atualizados/enviados para o repositório\n",
    " \n",
    "- git add para adicionar o arquivo a lista de transfererencia ( git add . - para adicionar todos os arquivos, git add nome do arquivo - para adicionar um arquivo \n",
    " \n",
    "- especifico)\n",
    " \n",
    "- git commit -m \"nome do commit\" - salva uma versão no repositório\n",
    " \n",
    "- git push origin master - para mandar o arquivo para o git\n",
    " \n",
    "- Operadores"
   ]
  },
  {
   "cell_type": "code",
   "execution_count": null,
   "metadata": {},
   "outputs": [],
   "source": [
    "#soma\n",
    "soma = 10 + 30 #Usando + soma\n",
    "print(soma) #imprime a soma\n",
    "print('10'+'10') #Colacar '' cria concatenação\n",
    "print(10 + 22) #soma dentro da print\n",
    "num1 = 20\n",
    "num2 = 10\n",
    "print(\"O resultado da soma é: \",num1 + num2) #somar dentro do print usando as variaveis \n",
    "soma2 = num1 + num2 #criar a soma \n",
    "print(\"O resultado da soma é: \",soma2)  #Imprime a soma criada\n",
    "\n",
    "#Subtração \n",
    "subtração = num1 - num2 \n",
    "print(\"O resultado da subtração: \", subtração, type(subtração))\n",
    "\n",
    "#Multiplicação\n",
    "multiplicação = num1 * num2\n",
    "print(\"O resultado da multiplicação: \", multiplicação, type(multiplicação))\n",
    "\n",
    "#Divisão\n",
    "divisão = num1 / num2\n",
    "print(\"O resultado dadivisão: \", divisão, type(divisão))\n",
    "\n",
    "#Média\n",
    "média = (num1 + num2) / 2\n",
    "print(\"Essa é a media dos valores: \", média)"
   ]
  },
  {
   "cell_type": "markdown",
   "metadata": {},
   "source": [
    "## Atividade\n",
    "\n",
    "- Declare 2 variáveis, cada uma com um valor, e some os resultados concatenados a um texto.\n",
    "\n",
    "- Crie um sistema onde o usuário irá inserir dois valores, gurde cada valor em variáveis , em seguida vocês irão realizar as 4 operações basicas \n",
    "matematicas ( + , - , * , / ) e mostrar esses resultados na tela, tambem concatenados a um texto indicativo de cada operação.\n",
    "\n",
    "- Crie um sistema que receba o nome do usuario, a ideia so podendo aceitar um numero inteiro, em seguida mostre o nome e a idade do usuario e peça para que ele digite 2 números para que sejam somados. Mostrar por ultimo a soma realizada para o usuario"
   ]
  },
  {
   "cell_type": "code",
   "execution_count": null,
   "metadata": {},
   "outputs": [],
   "source": [
    "# Parte 1 concatenação:\n",
    "\n",
    "num1 = int(input(\"Digite os priemrio valor a ser usado nas operações: \"))\n",
    "num2 = int(input(\"Digite os Segundo valor a ser usado nas operações: \"))\n",
    "print(\"O resultado da soma é: \", num1 + num2)\n",
    "print(\"O resultado da subtração é: \", num1 - num2)\n",
    "print(\"O resultado da multiplicaçao é: \", num1 * num2)\n",
    "print(\"O resultado da divisão é: \", num1 / num2)"
   ]
  },
  {
   "cell_type": "code",
   "execution_count": null,
   "metadata": {},
   "outputs": [],
   "source": [
    "## Cadrastro\n",
    "\n",
    "Nome = str(input(\"Digite o seu nome: \"))\n",
    "Idade = int(input(\"Digite a sua idade: \"))\n",
    "print(f\"O nome apresentado foi: {Nome} a idade inserida é: {Idade}\" )\n",
    "num1 = int(input(\"Digite o primeiro número a ser somado: \"))\n",
    "num2 = int(input(\"Digite o segundo número a ser somado: \"))\n",
    "print(\"O resultado da soma dos numeros é: \", num1 + num2)"
   ]
  }
 ],
 "metadata": {
  "kernelspec": {
   "display_name": ".venv",
   "language": "python",
   "name": "python3"
  },
  "language_info": {
   "codemirror_mode": {
    "name": "ipython",
    "version": 3
   },
   "file_extension": ".py",
   "mimetype": "text/x-python",
   "name": "python",
   "nbconvert_exporter": "python",
   "pygments_lexer": "ipython3",
   "version": "3.12.4"
  }
 },
 "nbformat": 4,
 "nbformat_minor": 2
}
