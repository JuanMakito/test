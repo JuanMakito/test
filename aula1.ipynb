{
 "cells": [
  {
   "cell_type": "code",
   "execution_count": null,
   "metadata": {},
   "outputs": [],
   "source": [
    "# Python essencial"
   ]
  },
  {
   "cell_type": "code",
   "execution_count": null,
   "metadata": {},
   "outputs": [],
   "source": [
    "- Algoritmo\n",
    "- Comentários\n",
    "- Variável\n",
    "- Estrutura de seleção\n",
    "- Git\n",
    "- GitHub\n",
    "- Cpmpartilhar Notebook no GitHub"
   ]
  },
  {
   "cell_type": "code",
   "execution_count": null,
   "metadata": {},
   "outputs": [],
   "source": [
    "### Cap.1 - Algoritmo para fritar um ovo\n",
    "##### Introdução\n",
    "\n",
    "###### Passo a passo para determinar uma determinada tarefa\n",
    "O algoritmo é uma sequencia para realizar uma determinada tarefa. Por exemplo, fritar um ovo. Quais são os passos para fritar um ovo:\n",
    "\n",
    "Passo 1: pegar o ovo na geladeira\n",
    "Passo 2: pegar a frigideira\n",
    "Passo 3: colocar a frigideira no fogão \n",
    "Passo 4: ligar o fogo\n",
    "passo 5: pegar a manteiga\n",
    "Passo 6: colocar a manteiga na frigideira\n",
    "Passo 7: quebrar o ovo na frigideira\n",
    "Passo 8: colocar sal\n",
    "Passo 9: \n"
   ]
  },
  {
   "cell_type": "code",
   "execution_count": null,
   "metadata": {},
   "outputs": [],
   "source": []
  }
 ],
 "metadata": {
  "language_info": {
   "name": "python"
  }
 },
 "nbformat": 4,
 "nbformat_minor": 2
}
